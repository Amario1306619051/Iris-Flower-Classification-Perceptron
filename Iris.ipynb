{
 "cells": [
  {
   "cell_type": "markdown",
   "metadata": {},
   "source": [
    "# Load dataset\n",
    "\n",
    "\n",
    "**Iris Dataset:**\n",
    "The Iris dataset is a well-known dataset in machine learning and statistics. It's often used as a beginner's dataset for practicing classification algorithms. The dataset contains samples of iris flowers, each belonging to one of three species: setosa, versicolor, and virginica. For each flower sample, there are four features measured: sepal length, sepal width, petal length, and petal width. The goal of using this dataset is typically to classify iris flowers into their respective species based on these measured features.\n",
    "\n",
    "**X (Features):**\n",
    "In the context of this code, `X` is a variable that stores the features (attributes) of the iris dataset that we are using for classification. In this specific case, `X` contains only the measurements of petal length and petal width for each iris flower. These two features are stored as a 2-dimensional array. The size of `X` will be `(number of samples, 2)` since there are two features for each sample.\n",
    "\n",
    "**y (Target Labels):**\n",
    "`y` is a variable that stores the target labels for the iris dataset. In this dataset, the target labels represent the species of each iris flower. Each target label corresponds to one of the three species: setosa, versicolor, or virginica. The size of `y` will be `(number of samples,)`, meaning it's a 1-dimensional array where each element corresponds to the species label of the corresponding iris flower in the `X` array.\n",
    "\n",
    "In summary, the code is loading the Iris dataset, extracting the petal length and petal width measurements as features (X), and storing the corresponding species labels in the target variable (y)."
   ]
  },
  {
   "cell_type": "code",
   "execution_count": 1,
   "metadata": {},
   "outputs": [
    {
     "name": "stdout",
     "output_type": "stream",
     "text": [
      "Class labels: [0 1 2]\n"
     ]
    }
   ],
   "source": [
    "from sklearn import datasets\n",
    "import numpy as np\n",
    "\n",
    "iris = datasets.load_iris()\n",
    "X = iris.data[:, [2, 3]]\n",
    "y = iris.target\n",
    "print('Class labels:', np.unique(y))"
   ]
  },
  {
   "cell_type": "markdown",
   "metadata": {},
   "source": [
    "# Here's what's happening step by step:\n",
    "\n",
    "Import train_test_split: The code imports the train_test_split function from the sklearn.model_selection module. This function is commonly used to split datasets into training and testing sets for machine learning.\n",
    "\n",
    "Splitting the Dataset:\n",
    "\n",
    "1. X is the feature matrix (petal length and petal width measurements).\n",
    "2. y is the target array (species labels).\n",
    "3. test_size=0.3 specifies that 30% of the dataset should be used for testing, and 70% for training.\n",
    "4. random_state=1 sets a random seed to ensure reproducibility. This means that every time you run the code with random_state=1, you'll get the same train-test split.\n",
    "5. stratify=y ensures that the class distribution is preserved in both the training and testing sets. It's important for maintaining representative samples of each class in both sets.\n",
    "\n",
    "Output:\n",
    "\n",
    "After executing this code, you'll have four sets:\n",
    "1. X_train: Training features (70% of the data)\n",
    "2. X_test: Testing features (30% of the data)\n",
    "3. y_train: Training target labels (corresponding to X_train)\n",
    "4. y_test: Testing target labels (corresponding to X_test)\n",
    "\n",
    "The purpose of splitting the dataset is to train a machine learning model on the training data and then evaluate its performance on the testing data. This helps you assess how well your model generalizes to new, unseen data."
   ]
  },
  {
   "cell_type": "code",
   "execution_count": 2,
   "metadata": {},
   "outputs": [],
   "source": [
    "from sklearn.model_selection import train_test_split\n",
    "\n",
    "X_train, X_test, y_train, y_test = train_test_split(X, y, test_size=0.3, random_state=1, stratify=y)\n"
   ]
  },
  {
   "cell_type": "markdown",
   "metadata": {},
   "source": [
    "To ensure accurate and effective machine learning, it's often necessary to preprocess the data before training a model. One common preprocessing step is feature scaling, which aims to bring all features to a common scale. The `StandardScaler` from the `sklearn.preprocessing` module is a tool that can help achieve this. Let's break down the steps in the following code:\n",
    "\n",
    "1. **Import the Required Module:**\n",
    "   We begin by importing the `StandardScaler` class from `sklearn.preprocessing`.\n",
    "\n",
    "2. **Initialize the Scaler:**\n",
    "   Create an instance of the `StandardScaler` class. This will be used to standardize the features.\n",
    "\n",
    "3. **Fit the Scaler:**\n",
    "   Using the training data (`X_train`), the scaler computes the mean and standard deviation for each feature. These statistics are essential for standardization.\n",
    "\n",
    "4. **Transform the Data:**\n",
    "   With the computed mean and standard deviation, the scaler transforms both the training and testing data. This standardization ensures that all features have similar scales.\n",
    "\n",
    "Let's take a look at the actual code:\n"
   ]
  },
  {
   "cell_type": "code",
   "execution_count": 3,
   "metadata": {},
   "outputs": [],
   "source": [
    "from sklearn.preprocessing import StandardScaler\n",
    "\n",
    "# Initialize the StandardScaler\n",
    "sc = StandardScaler()\n",
    "\n",
    "# Fit the scaler on the training data\n",
    "sc.fit(X_train)\n",
    "\n",
    "# Transform the training and testing data using the scaler\n",
    "X_train_std = sc.transform(X_train)\n",
    "X_test_std = sc.transform(X_test)"
   ]
  },
  {
   "cell_type": "markdown",
   "metadata": {},
   "source": [
    "Next, let's dive into implementing a machine learning model. In this example, we're using the `Perceptron` classifier from `sklearn.linear_model`. The Perceptron is a simple linear classification algorithm.\n",
    "\n",
    "Here's a breakdown of the code:\n",
    "\n",
    "1. **Import the Necessary Module:**\n",
    "   Import the `Perceptron` classifier from `sklearn.linear_model`.\n",
    "\n",
    "2. **Initialize the Perceptron:**\n",
    "   Create an instance of the `Perceptron` classifier with the following parameters:\n",
    "   - `n_iter`: The number of iterations (epochs) for training. Here, we've set it to 40.\n",
    "   - `eta0`: The learning rate. It determines the step size in updating the weights during training. We've set it to 0.1.\n",
    "   - `random_state`: Seed for random number generation to ensure reproducibility.\n",
    "\n",
    "3. **Fit the Perceptron:**\n",
    "   Use the `fit` method to train the Perceptron on the standardized training data (`X_train_std`) and the corresponding target labels (`y_train`).\n",
    "\n",
    "Let's see the code in action:"
   ]
  },
  {
   "cell_type": "code",
   "execution_count": 4,
   "metadata": {},
   "outputs": [
    {
     "data": {
      "text/html": [
       "<style>#sk-container-id-1 {color: black;background-color: white;}#sk-container-id-1 pre{padding: 0;}#sk-container-id-1 div.sk-toggleable {background-color: white;}#sk-container-id-1 label.sk-toggleable__label {cursor: pointer;display: block;width: 100%;margin-bottom: 0;padding: 0.3em;box-sizing: border-box;text-align: center;}#sk-container-id-1 label.sk-toggleable__label-arrow:before {content: \"▸\";float: left;margin-right: 0.25em;color: #696969;}#sk-container-id-1 label.sk-toggleable__label-arrow:hover:before {color: black;}#sk-container-id-1 div.sk-estimator:hover label.sk-toggleable__label-arrow:before {color: black;}#sk-container-id-1 div.sk-toggleable__content {max-height: 0;max-width: 0;overflow: hidden;text-align: left;background-color: #f0f8ff;}#sk-container-id-1 div.sk-toggleable__content pre {margin: 0.2em;color: black;border-radius: 0.25em;background-color: #f0f8ff;}#sk-container-id-1 input.sk-toggleable__control:checked~div.sk-toggleable__content {max-height: 200px;max-width: 100%;overflow: auto;}#sk-container-id-1 input.sk-toggleable__control:checked~label.sk-toggleable__label-arrow:before {content: \"▾\";}#sk-container-id-1 div.sk-estimator input.sk-toggleable__control:checked~label.sk-toggleable__label {background-color: #d4ebff;}#sk-container-id-1 div.sk-label input.sk-toggleable__control:checked~label.sk-toggleable__label {background-color: #d4ebff;}#sk-container-id-1 input.sk-hidden--visually {border: 0;clip: rect(1px 1px 1px 1px);clip: rect(1px, 1px, 1px, 1px);height: 1px;margin: -1px;overflow: hidden;padding: 0;position: absolute;width: 1px;}#sk-container-id-1 div.sk-estimator {font-family: monospace;background-color: #f0f8ff;border: 1px dotted black;border-radius: 0.25em;box-sizing: border-box;margin-bottom: 0.5em;}#sk-container-id-1 div.sk-estimator:hover {background-color: #d4ebff;}#sk-container-id-1 div.sk-parallel-item::after {content: \"\";width: 100%;border-bottom: 1px solid gray;flex-grow: 1;}#sk-container-id-1 div.sk-label:hover label.sk-toggleable__label {background-color: #d4ebff;}#sk-container-id-1 div.sk-serial::before {content: \"\";position: absolute;border-left: 1px solid gray;box-sizing: border-box;top: 0;bottom: 0;left: 50%;z-index: 0;}#sk-container-id-1 div.sk-serial {display: flex;flex-direction: column;align-items: center;background-color: white;padding-right: 0.2em;padding-left: 0.2em;position: relative;}#sk-container-id-1 div.sk-item {position: relative;z-index: 1;}#sk-container-id-1 div.sk-parallel {display: flex;align-items: stretch;justify-content: center;background-color: white;position: relative;}#sk-container-id-1 div.sk-item::before, #sk-container-id-1 div.sk-parallel-item::before {content: \"\";position: absolute;border-left: 1px solid gray;box-sizing: border-box;top: 0;bottom: 0;left: 50%;z-index: -1;}#sk-container-id-1 div.sk-parallel-item {display: flex;flex-direction: column;z-index: 1;position: relative;background-color: white;}#sk-container-id-1 div.sk-parallel-item:first-child::after {align-self: flex-end;width: 50%;}#sk-container-id-1 div.sk-parallel-item:last-child::after {align-self: flex-start;width: 50%;}#sk-container-id-1 div.sk-parallel-item:only-child::after {width: 0;}#sk-container-id-1 div.sk-dashed-wrapped {border: 1px dashed gray;margin: 0 0.4em 0.5em 0.4em;box-sizing: border-box;padding-bottom: 0.4em;background-color: white;}#sk-container-id-1 div.sk-label label {font-family: monospace;font-weight: bold;display: inline-block;line-height: 1.2em;}#sk-container-id-1 div.sk-label-container {text-align: center;}#sk-container-id-1 div.sk-container {/* jupyter's `normalize.less` sets `[hidden] { display: none; }` but bootstrap.min.css set `[hidden] { display: none !important; }` so we also need the `!important` here to be able to override the default hidden behavior on the sphinx rendered scikit-learn.org. See: https://github.com/scikit-learn/scikit-learn/issues/21755 */display: inline-block !important;position: relative;}#sk-container-id-1 div.sk-text-repr-fallback {display: none;}</style><div id=\"sk-container-id-1\" class=\"sk-top-container\"><div class=\"sk-text-repr-fallback\"><pre>Perceptron(eta0=0.1, max_iter=40, random_state=1)</pre><b>In a Jupyter environment, please rerun this cell to show the HTML representation or trust the notebook. <br />On GitHub, the HTML representation is unable to render, please try loading this page with nbviewer.org.</b></div><div class=\"sk-container\" hidden><div class=\"sk-item\"><div class=\"sk-estimator sk-toggleable\"><input class=\"sk-toggleable__control sk-hidden--visually\" id=\"sk-estimator-id-1\" type=\"checkbox\" checked><label for=\"sk-estimator-id-1\" class=\"sk-toggleable__label sk-toggleable__label-arrow\">Perceptron</label><div class=\"sk-toggleable__content\"><pre>Perceptron(eta0=0.1, max_iter=40, random_state=1)</pre></div></div></div></div></div>"
      ],
      "text/plain": [
       "Perceptron(eta0=0.1, max_iter=40, random_state=1)"
      ]
     },
     "execution_count": 4,
     "metadata": {},
     "output_type": "execute_result"
    }
   ],
   "source": [
    "from sklearn.linear_model import Perceptron\n",
    "\n",
    "# Initialize the Perceptron classifier\n",
    "ppn = Perceptron( max_iter=40, eta0=0.1, random_state=1)\n",
    "\n",
    "# Train the Perceptron on standardized training data\n",
    "ppn.fit(X_train_std, y_train)\n"
   ]
  },
  {
   "cell_type": "code",
   "execution_count": 5,
   "metadata": {},
   "outputs": [],
   "source": [
    "y_pred = ppn.predict(X_test_std)"
   ]
  },
  {
   "cell_type": "markdown",
   "metadata": {},
   "source": [
    "After training the machine learning model, it's essential to evaluate its performance. The `accuracy_score` function from `sklearn.metrics` allows us to measure the accuracy of the model's predictions. Let's break down the code:\n",
    "\n",
    "1. **Import the Necessary Module:**\n",
    "   Import the `accuracy_score` function from `sklearn.metrics`.\n",
    "\n",
    "2. **Calculate and Print Accuracy:**\n",
    "   Use the `accuracy_score` function to compare the actual target labels (`y_test`) with the predicted labels (`y_pred`). Then, print the accuracy score rounded to two decimal places.\n",
    "\n",
    "Let's see the code in action:\n"
   ]
  },
  {
   "cell_type": "code",
   "execution_count": 6,
   "metadata": {},
   "outputs": [
    {
     "name": "stdout",
     "output_type": "stream",
     "text": [
      "Accuracy: 0.98\n"
     ]
    }
   ],
   "source": [
    "from sklearn.metrics import accuracy_score\n",
    "\n",
    "# Calculate accuracy and print the result\n",
    "print('Accuracy: %.2f' % accuracy_score(y_test, y_pred))\n"
   ]
  },
  {
   "cell_type": "code",
   "execution_count": 7,
   "metadata": {},
   "outputs": [],
   "source": [
    "from matplotlib.colors import ListedColormap\n",
    "import matplotlib.pyplot as plt\n",
    "import numpy as np\n",
    "\n",
    "def plot_decision_regions(X, y, classifier, test_idx=None,\n",
    "                          resolution=0.02):\n",
    "    # setup marker generator and color map\n",
    "    markers = ('s', 'x', 'o', '^', 'v')\n",
    "    colors = ('red', 'blue', 'lightgreen', 'gray', 'cyan')\n",
    "    cmap = ListedColormap(colors[:len(np.unique(y))])\n",
    "    \n",
    "    # plot the decision surface\n",
    "    x1_min, x1_max = X[:, 0].min() - 1, X[:, 0].max() + 1\n",
    "    x2_min, x2_max = X[:, 1].min() - 1, X[:, 1].max() + 1\n",
    "    \n",
    "    xx1, xx2 = np.meshgrid(np.arange(x1_min, x1_max, resolution),\n",
    "                           np.arange(x2_min, x2_max, resolution))\n",
    "    \n",
    "    Z = classifier.predict(np.array([xx1.ravel(), xx2.ravel()]).T)\n",
    "    Z = Z.reshape(xx1.shape)\n",
    "    \n",
    "    plt.contourf(xx1, xx2, Z, alpha=0.3, cmap=cmap)\n",
    "    plt.xlim(xx1.min(), xx1.max())\n",
    "    plt.ylim(xx2.min(), xx2.max())\n",
    "    \n",
    "    for idx, cl in enumerate(np.unique(y)):\n",
    "        plt.scatter(x=X[y == cl, 0], y=X[y == cl, 1],\n",
    "                    alpha=0.8, c=colors[idx],\n",
    "                    marker=markers[idx], label=cl,\n",
    "                    edgecolor='black')\n",
    "    \n"
   ]
  },
  {
   "cell_type": "code",
   "execution_count": 8,
   "metadata": {},
   "outputs": [
    {
     "name": "stderr",
     "output_type": "stream",
     "text": [
      "/var/folders/2p/8rq7kl1j27nftt5zfzsg8tyc0000gn/T/ipykernel_53776/3858470988.py:27: UserWarning: You passed a edgecolor/edgecolors ('black') for an unfilled marker ('x').  Matplotlib is ignoring the edgecolor in favor of the facecolor.  This behavior may change in the future.\n",
      "  plt.scatter(x=X[y == cl, 0], y=X[y == cl, 1],\n"
     ]
    },
    {
     "data": {
      "image/png": "[encoded data removed]",
      "text/plain": [
       "<Figure size 640x480 with 1 Axes>"
      ]
     },
     "metadata": {},
     "output_type": "display_data"
    }
   ],
   "source": [
    "X_combined_std = np.vstack((X_train_std, X_test_std))\n",
    "y_combined = np.hstack((y_train, y_test))\n",
    "\n",
    "plot_decision_regions(X=X_combined_std,\n",
    "                      y=y_combined,\n",
    "                      classifier=ppn,\n",
    "                      test_idx=range(105, 150))\n",
    "\n",
    "plt.xlabel('petal length [standardized]')\n",
    "plt.ylabel('petal width [standardized]')\n",
    "plt.legend(loc='upper left')\n",
    "plt.show()\n"
   ]
  }
 ],
 "metadata": {
  "interpreter": {
   "hash": "b0fa6594d8f4cbf19f97940f81e996739fb7646882a419484c72d19e05852a7e"
  },
  "kernelspec": {
   "display_name": "Python 3.11.2 64-bit",
   "language": "python",
   "name": "python3"
  },
  "language_info": {
   "codemirror_mode": {
    "name": "ipython",
    "version": 3
   },
   "file_extension": ".py",
   "mimetype": "text/x-python",
   "name": "python",
   "nbconvert_exporter": "python",
   "pygments_lexer": "ipython3",
   "version": "3.11.2"
  },
  "orig_nbformat": 4
 },
 "nbformat": 4,
 "nbformat_minor": 2
}
